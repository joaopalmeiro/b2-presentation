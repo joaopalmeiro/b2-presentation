{
 "cells": [
  {
   "cell_type": "code",
   "execution_count": 17,
   "metadata": {},
   "outputs": [],
   "source": [
    "from b2 import B2"
   ]
  },
  {
   "cell_type": "code",
   "execution_count": 18,
   "metadata": {},
   "outputs": [],
   "source": [
    "b2 = B2()\n",
    "data = b2.from_file(\"./data/fire_earlier.csv\")"
   ]
  },
  {
   "cell_type": "code",
   "execution_count": 19,
   "metadata": {},
   "outputs": [
    {
     "data": {
      "text/html": [
       "<table border=\"1\" class=\"dataframe\">\n",
       "    <thead>\n",
       "        <tr>\n",
       "            <th>STATE</th> <th>COUNTY</th> <th>LATITUDE</th> <th>LONGITUDE</th> <th>FIRE_SIZE</th> <th>CAUSE_CODE</th> <th>CAUSE_DESCR</th> <th>DISCOVERY_DATE</th> <th>DISCOVERY_TIME</th> <th>CONT_DATE</th> <th>CONT_TIME</th>\n",
       "        </tr>\n",
       "    </thead>\n",
       "    <tbody>\n",
       "        <tr>\n",
       "            <td>GA   </td> <td>Baldwin   </td> <td>33.0514 </td> <td>-83.0735 </td> <td>6.65     </td> <td>5         </td> <td>Debris Burning</td> <td>2.45246e+06   </td> <td>1610          </td> <td>2.45246e+06</td> <td>1610     </td>\n",
       "        </tr>\n",
       "        <tr>\n",
       "            <td>WV   </td> <td>Monongalia</td> <td>39.5665 </td> <td>-80.0572 </td> <td>5        </td> <td>5         </td> <td>Debris Burning</td> <td>2.44977e+06   </td> <td>1550          </td> <td>2.44977e+06</td> <td>1550     </td>\n",
       "        </tr>\n",
       "        <tr>\n",
       "            <td>WV   </td> <td>Logan     </td> <td>37.9409 </td> <td>-82.023  </td> <td>61       </td> <td>10        </td> <td>Fireworks     </td> <td>2.44966e+06   </td> <td>1410          </td> <td>2.44966e+06</td> <td>1410     </td>\n",
       "        </tr>\n",
       "        <tr>\n",
       "            <td>MS   </td> <td>Copiah    </td> <td>31.8092 </td> <td>-90.718  </td> <td>2        </td> <td>2         </td> <td>Equipment Use </td> <td>2.4509e+06    </td> <td>1556          </td> <td>2.4509e+06 </td> <td>1705     </td>\n",
       "        </tr>\n",
       "        <tr>\n",
       "            <td>WA   </td> <td>37        </td> <td>47.0372 </td> <td>-120.951 </td> <td>0.2      </td> <td>9         </td> <td>Miscellaneous </td> <td>2.4526e+06    </td> <td>800           </td> <td>2.4526e+06 </td> <td>1700     </td>\n",
       "        </tr>\n",
       "    </tbody>\n",
       "</table>"
      ],
      "text/plain": [
       "STATE | COUNTY     | LATITUDE | LONGITUDE | FIRE_SIZE | CAUSE_CODE | CAUSE_DESCR    | DISCOVERY_DATE | DISCOVERY_TIME | CONT_DATE   | CONT_TIME\n",
       "GA    | Baldwin    | 33.0514  | -83.0735  | 6.65      | 5          | Debris Burning | 2.45246e+06    | 1610           | 2.45246e+06 | 1610\n",
       "WV    | Monongalia | 39.5665  | -80.0572  | 5         | 5          | Debris Burning | 2.44977e+06    | 1550           | 2.44977e+06 | 1550\n",
       "WV    | Logan      | 37.9409  | -82.023   | 61        | 10         | Fireworks      | 2.44966e+06    | 1410           | 2.44966e+06 | 1410\n",
       "MS    | Copiah     | 31.8092  | -90.718   | 2         | 2          | Equipment Use  | 2.4509e+06     | 1556           | 2.4509e+06  | 1705\n",
       "WA    | 37         | 47.0372  | -120.951  | 0.2       | 9          | Miscellaneous  | 2.4526e+06     | 800            | 2.4526e+06  | 1700"
      ]
     },
     "execution_count": 19,
     "metadata": {},
     "output_type": "execute_result"
    }
   ],
   "source": [
    "data.head()"
   ]
  },
  {
   "cell_type": "code",
   "execution_count": 20,
   "metadata": {},
   "outputs": [
    {
     "data": {
      "text/plain": [
       "5000"
      ]
     },
     "execution_count": 20,
     "metadata": {},
     "output_type": "execute_result"
    }
   ],
   "source": [
    "data.num_rows"
   ]
  },
  {
   "cell_type": "code",
   "execution_count": null,
   "metadata": {},
   "outputs": [],
   "source": []
  }
 ],
 "metadata": {
  "kernelspec": {
   "display_name": "Python 3",
   "language": "python",
   "name": "python3"
  },
  "language_info": {
   "codemirror_mode": {
    "name": "ipython",
    "version": 3
   },
   "file_extension": ".py",
   "mimetype": "text/x-python",
   "name": "python",
   "nbconvert_exporter": "python",
   "pygments_lexer": "ipython3",
   "version": "3.7.7"
  }
 },
 "nbformat": 4,
 "nbformat_minor": 4
}
